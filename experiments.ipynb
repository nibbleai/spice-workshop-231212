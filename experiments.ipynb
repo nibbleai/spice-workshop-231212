{
 "cells": [
  {
   "cell_type": "markdown",
   "metadata": {},
   "source": [
    "## spice Workshop - Experiments\n",
    "\n",
    "In this notebook, we explore data and experiment iteratively."
   ]
  },
  {
   "cell_type": "code",
   "execution_count": 1,
   "metadata": {},
   "outputs": [],
   "source": [
    "import logging\n",
    "\n",
    "logging.disable()\n"
   ]
  },
  {
   "cell_type": "markdown",
   "metadata": {},
   "source": [
    "2 datasets are used:\n",
    "- TLC NYC Taxi trips (2015) - [link](https://www.nyc.gov/site/tlc/about/tlc-trip-record-data.page)\n",
    "- NOAA Climate data of JFK airport, NYC (2015) - [link](https://www.ncei.noaa.gov/cdo-web/datasets/GHCND/stations/GHCND:USW00094789/detail)\n",
    "\n",
    "### TLC NYC Taxi trips\n",
    "Contains taxi trips, whose duration we seek to predict.\n",
    "<br><br>\n",
    "\n",
    "| Column name | Description |\n",
    "| :- | :- |\n",
    "| vendor_id | TPEP provider that provided the record |\n",
    "| pickup_datetime | The start date of the ride |\n",
    "| dropoff_datetime | The end date of the ride |\n",
    "| passenger_count | Number of passenger |\n",
    "| trip_distance | The distance in Mile of the ride |\n",
    "| pickup_longitude | The longitude of starting point of the ride |\n",
    "| pickup_latitude | The latitude of starting point of the ride |\n",
    "| rate_code | The rate code |\n",
    "| store_and_fwd_flag | Trip record held in vehicle memory before sending to the vendor |\n",
    "| dropoff_longitude | The longitude of end point of the ride |\n",
    "| dropoff_latitude | The longitude of end point of the ride |\n",
    "| payment_type | Type of payment |\n",
    "| fare_amount | Amount of the ride in dollars |\n",
    "\n",
    "More details on data schema on the [NYC TLC website](https://www.nyc.gov/assets/tlc/downloads/pdf/data_dictionary_trip_records_yellow.pdf)\n",
    "\n",
    "\n",
    "### NOAA Climate data of JFK airport, NYC\n",
    "Contains weather information.\n",
    "Most 'important' columns are:\n",
    "<br><br>\n",
    "\n",
    "| Column name | Description |\n",
    "| :- | :- |\n",
    "| TMAX | Maximum temperature |\n",
    "| TMIN | Minimum temperature |\n",
    "| PRCP | Precipitation |\n",
    "| SNOW | Snowfall |\n",
    "| SNWD | Snow depth |\n",
    "| ACMH | Average cloudiness midnight to midnight |\n",
    "| TSUN | Total sunshine for the period |\n",
    "| AWND | Average wind speed |\n",
    "\n",
    "Full data schema is available on the [NOAA website](https://www.ncei.noaa.gov/cdo-web/datasets/GHCND/stations/GHCND:USW00094789/detail)\n"
   ]
  },
  {
   "cell_type": "code",
   "execution_count": 2,
   "metadata": {},
   "outputs": [],
   "source": [
    "from src.data import get_train_dataset\n",
    "\n",
    "data = get_train_dataset()\n"
   ]
  },
  {
   "cell_type": "code",
   "execution_count": 3,
   "metadata": {},
   "outputs": [
    {
     "data": {
      "application/vnd.jupyter.widget-view+json": {
       "model_id": "2cd51348d98c4972838e97d63c6c2db3",
       "version_major": 2,
       "version_minor": 0
      },
      "text/plain": [
       "Summarize dataset:   0%|          | 0/5 [00:00<?, ?it/s]"
      ]
     },
     "metadata": {},
     "output_type": "display_data"
    },
    {
     "data": {
      "application/vnd.jupyter.widget-view+json": {
       "model_id": "9d88b1583edb458e8343b20927ff749c",
       "version_major": 2,
       "version_minor": 0
      },
      "text/plain": [
       "Generate report structure:   0%|          | 0/1 [00:00<?, ?it/s]"
      ]
     },
     "metadata": {},
     "output_type": "display_data"
    },
    {
     "data": {
      "application/vnd.jupyter.widget-view+json": {
       "model_id": "24a06a3770c84fbfab56d722d26dd3c0",
       "version_major": 2,
       "version_minor": 0
      },
      "text/plain": [
       "Render widgets:   0%|          | 0/1 [00:00<?, ?it/s]"
      ]
     },
     "metadata": {},
     "output_type": "display_data"
    },
    {
     "data": {
      "application/vnd.jupyter.widget-view+json": {
       "model_id": "271d6fe1e1c74eed9d8c4d974067a810",
       "version_major": 2,
       "version_minor": 0
      },
      "text/plain": [
       "VBox(children=(Tab(children=(Tab(children=(GridBox(children=(VBox(children=(GridspecLayout(children=(HTML(valu…"
      ]
     },
     "metadata": {},
     "output_type": "display_data"
    }
   ],
   "source": [
    "import ydata_profiling\n",
    "\n",
    "ydata_profiling.ProfileReport(data).to_widgets()\n"
   ]
  },
  {
   "cell_type": "code",
   "execution_count": 4,
   "metadata": {},
   "outputs": [
    {
     "data": {
      "text/plain": [
       "0    2104\n",
       "1    1671\n",
       "2    1782\n",
       "3    1624\n",
       "4    2225\n",
       "Name: trip_duration, dtype: int32"
      ]
     },
     "execution_count": 4,
     "metadata": {},
     "output_type": "execute_result"
    }
   ],
   "source": [
    "from src.data import get_target\n",
    "\n",
    "target = get_target(data)\n",
    "target.head()\n"
   ]
  },
  {
   "cell_type": "code",
   "execution_count": 5,
   "metadata": {},
   "outputs": [
    {
     "data": {
      "text/plain": [
       "(Index([13463, 19816, 16230, 12497, 14337,   633, 17495, 13345,  5484, 12539,\n",
       "        ...\n",
       "        16109, 16399, 14494, 11029,  7376, 12774,  1893,  5294,  3669, 19053],\n",
       "       dtype='int64', length=13773),\n",
       " Index([ 9765, 13963, 18472,  8481,  2208,  6891, 19760, 13609, 13852,  4819,\n",
       "        ...\n",
       "         2838, 19369,  8797,  2248,  8388,  9021, 20264, 12163,  1224,  9300],\n",
       "       dtype='int64', length=6784))"
      ]
     },
     "execution_count": 5,
     "metadata": {},
     "output_type": "execute_result"
    }
   ],
   "source": [
    "from sklearn.model_selection import train_test_split\n",
    "\n",
    "from src.schemas import TaxiColumn\n",
    "from src.config import config\n",
    "\n",
    "train_idx, test_idx = train_test_split(\n",
    "    data.sort_values(TaxiColumn.PICKUP_TIME).index,\n",
    "    test_size=config.test_size,\n",
    "    shuffle=False,\n",
    ")\n",
    "train_idx, test_idx\n"
   ]
  },
  {
   "cell_type": "code",
   "execution_count": 6,
   "metadata": {},
   "outputs": [
    {
     "data": {
      "text/html": [
       "<div>\n",
       "<style scoped>\n",
       "    .dataframe tbody tr th:only-of-type {\n",
       "        vertical-align: middle;\n",
       "    }\n",
       "\n",
       "    .dataframe tbody tr th {\n",
       "        vertical-align: top;\n",
       "    }\n",
       "\n",
       "    .dataframe thead th {\n",
       "        text-align: right;\n",
       "    }\n",
       "</style>\n",
       "<table border=\"1\" class=\"dataframe\">\n",
       "  <thead>\n",
       "    <tr style=\"text-align: right;\">\n",
       "      <th></th>\n",
       "      <th>vendor_id</th>\n",
       "      <th>passenger_count</th>\n",
       "      <th>pickup_longitude</th>\n",
       "      <th>pickup_latitude</th>\n",
       "      <th>dropoff_longitude</th>\n",
       "      <th>dropoff_latitude</th>\n",
       "    </tr>\n",
       "  </thead>\n",
       "  <tbody>\n",
       "    <tr>\n",
       "      <th>0</th>\n",
       "      <td>1</td>\n",
       "      <td>1</td>\n",
       "      <td>-73.974998</td>\n",
       "      <td>40.756504</td>\n",
       "      <td>-73.872536</td>\n",
       "      <td>40.774345</td>\n",
       "    </tr>\n",
       "    <tr>\n",
       "      <th>1</th>\n",
       "      <td>2</td>\n",
       "      <td>5</td>\n",
       "      <td>-74.001587</td>\n",
       "      <td>40.741020</td>\n",
       "      <td>-73.955109</td>\n",
       "      <td>40.685692</td>\n",
       "    </tr>\n",
       "    <tr>\n",
       "      <th>2</th>\n",
       "      <td>2</td>\n",
       "      <td>1</td>\n",
       "      <td>-73.863098</td>\n",
       "      <td>40.769184</td>\n",
       "      <td>-73.964119</td>\n",
       "      <td>40.679508</td>\n",
       "    </tr>\n",
       "    <tr>\n",
       "      <th>3</th>\n",
       "      <td>2</td>\n",
       "      <td>1</td>\n",
       "      <td>-73.995331</td>\n",
       "      <td>40.725002</td>\n",
       "      <td>-73.932930</td>\n",
       "      <td>40.665352</td>\n",
       "    </tr>\n",
       "    <tr>\n",
       "      <th>4</th>\n",
       "      <td>1</td>\n",
       "      <td>1</td>\n",
       "      <td>-73.953484</td>\n",
       "      <td>40.772774</td>\n",
       "      <td>-73.776382</td>\n",
       "      <td>40.645233</td>\n",
       "    </tr>\n",
       "  </tbody>\n",
       "</table>\n",
       "</div>"
      ],
      "text/plain": [
       "   vendor_id  passenger_count  pickup_longitude  pickup_latitude  \\\n",
       "0          1                1        -73.974998        40.756504   \n",
       "1          2                5        -74.001587        40.741020   \n",
       "2          2                1        -73.863098        40.769184   \n",
       "3          2                1        -73.995331        40.725002   \n",
       "4          1                1        -73.953484        40.772774   \n",
       "\n",
       "   dropoff_longitude  dropoff_latitude  \n",
       "0         -73.872536         40.774345  \n",
       "1         -73.955109         40.685692  \n",
       "2         -73.964119         40.679508  \n",
       "3         -73.932930         40.665352  \n",
       "4         -73.776382         40.645233  "
      ]
     },
     "execution_count": 6,
     "metadata": {},
     "output_type": "execute_result"
    }
   ],
   "source": [
    "COLS_TO_EXTRACT = [\n",
    "    TaxiColumn.VENDOR_ID,\n",
    "    TaxiColumn.PASSENGER_COUNT,\n",
    "    TaxiColumn.PICKUP_LON,\n",
    "    TaxiColumn.PICKUP_LAT,\n",
    "    TaxiColumn.DROPOFF_LON,\n",
    "    TaxiColumn.DROPOFF_LAT,\n",
    "]\n",
    "\n",
    "features = data.loc[:, COLS_TO_EXTRACT]\n",
    "features.head()\n"
   ]
  },
  {
   "cell_type": "code",
   "execution_count": 7,
   "metadata": {},
   "outputs": [],
   "source": [
    "train_features, train_target = features.iloc[train_idx], target.iloc[train_idx]\n",
    "test_features, test_target = features.iloc[test_idx], target.iloc[test_idx]\n"
   ]
  },
  {
   "cell_type": "code",
   "execution_count": 8,
   "metadata": {},
   "outputs": [],
   "source": [
    "from sklearn.ensemble import RandomForestRegressor\n",
    "\n",
    "model = RandomForestRegressor().fit(train_features, train_target)\n"
   ]
  },
  {
   "cell_type": "code",
   "execution_count": 9,
   "metadata": {},
   "outputs": [
    {
     "data": {
      "image/png": "[encoded data removed]",
      "text/plain": [
       "<Figure size 640x480 with 1 Axes>"
      ]
     },
     "metadata": {},
     "output_type": "display_data"
    }
   ],
   "source": [
    "%matplotlib inline\n",
    "\n",
    "from matplotlib import pyplot as plt\n",
    "\n",
    "sorted_idx = model.feature_importances_.argsort()\n",
    "\n",
    "plt.barh(model.feature_names_in_[sorted_idx], model.feature_importances_[sorted_idx])\n",
    "plt.show()\n"
   ]
  },
  {
   "cell_type": "code",
   "execution_count": 10,
   "metadata": {},
   "outputs": [
    {
     "name": "stderr",
     "output_type": "stream",
     "text": [
      "/Users/lucasleray/Documents/nibble/spice-workshop/.venv/lib/python3.9/site-packages/sklearn/linear_model/_coordinate_descent.py:647: ConvergenceWarning: Objective did not converge. You might want to increase the number of iterations, check the scale of the features or consider increasing regularisation. Duality gap: 2.424e+10, tolerance: 8.243e+06\n",
      "  model = cd_fast.enet_coordinate_descent(\n",
      "/Users/lucasleray/Documents/nibble/spice-workshop/.venv/lib/python3.9/site-packages/sklearn/linear_model/_coordinate_descent.py:647: ConvergenceWarning: Objective did not converge. You might want to increase the number of iterations, check the scale of the features or consider increasing regularisation. Duality gap: 4.212e+09, tolerance: 8.243e+06\n",
      "  model = cd_fast.enet_coordinate_descent(\n"
     ]
    },
    {
     "name": "stdout",
     "output_type": "stream",
     "text": [
      "{'pickup_latitude'} has coef 0 at alpha = 2\n",
      "{'dropoff_latitude'} has coef 0 at alpha = 3\n",
      "{'vendor_id'} has coef 0 at alpha = 24\n",
      "{'passenger_count'} has coef 0 at alpha = 63\n"
     ]
    }
   ],
   "source": [
    "import numpy as np\n",
    "from sklearn.linear_model import Lasso\n",
    "\n",
    "dropped = set()\n",
    "for alpha in np.arange(1, 100, 1):\n",
    "    lasso = Lasso(alpha=alpha).fit(train_features, train_target)\n",
    "\n",
    "    indices = np.where(lasso.coef_ == 0)[0]\n",
    "    if new_missing := {\n",
    "        feature for feature in lasso.feature_names_in_[indices]\n",
    "        if not feature in dropped\n",
    "    }:\n",
    "        print(f\"{new_missing} has coef 0 at alpha = {alpha}\")\n",
    "        dropped |= new_missing\n"
   ]
  },
  {
   "cell_type": "code",
   "execution_count": 11,
   "metadata": {},
   "outputs": [],
   "source": [
    "import pandas as pd\n",
    "from sklearn.model_selection import cross_validate\n",
    "\n",
    "SCORING_METHODS = (\n",
    "    'neg_mean_absolute_error',\n",
    "    'neg_mean_squared_error',\n",
    ")\n",
    "\n",
    "model = RandomForestRegressor(random_state=42)\n",
    "cv_scores = cross_validate(model, features, target, scoring=SCORING_METHODS, cv=5)\n"
   ]
  },
  {
   "cell_type": "code",
   "execution_count": 12,
   "metadata": {},
   "outputs": [
    {
     "data": {
      "text/html": [
       "<div>\n",
       "<style scoped>\n",
       "    .dataframe tbody tr th:only-of-type {\n",
       "        vertical-align: middle;\n",
       "    }\n",
       "\n",
       "    .dataframe tbody tr th {\n",
       "        vertical-align: top;\n",
       "    }\n",
       "\n",
       "    .dataframe thead th {\n",
       "        text-align: right;\n",
       "    }\n",
       "</style>\n",
       "<table border=\"1\" class=\"dataframe\">\n",
       "  <thead>\n",
       "    <tr style=\"text-align: right;\">\n",
       "      <th></th>\n",
       "      <th>fit_time</th>\n",
       "      <th>score_time</th>\n",
       "      <th>test_neg_mean_absolute_error</th>\n",
       "      <th>test_neg_mean_squared_error</th>\n",
       "    </tr>\n",
       "  </thead>\n",
       "  <tbody>\n",
       "    <tr>\n",
       "      <th>mean</th>\n",
       "      <td>5.102951</td>\n",
       "      <td>0.080471</td>\n",
       "      <td>-629.135585</td>\n",
       "      <td>-7.812880e+06</td>\n",
       "    </tr>\n",
       "    <tr>\n",
       "      <th>std</th>\n",
       "      <td>0.092466</td>\n",
       "      <td>0.002146</td>\n",
       "      <td>28.518070</td>\n",
       "      <td>2.833745e+06</td>\n",
       "    </tr>\n",
       "  </tbody>\n",
       "</table>\n",
       "</div>"
      ],
      "text/plain": [
       "      fit_time  score_time  test_neg_mean_absolute_error  \\\n",
       "mean  5.102951    0.080471                   -629.135585   \n",
       "std   0.092466    0.002146                     28.518070   \n",
       "\n",
       "      test_neg_mean_squared_error  \n",
       "mean                -7.812880e+06  \n",
       "std                  2.833745e+06  "
      ]
     },
     "execution_count": 12,
     "metadata": {},
     "output_type": "execute_result"
    }
   ],
   "source": [
    "pd.DataFrame(cv_scores).agg(['mean', 'std'])\n"
   ]
  }
 ],
 "metadata": {
  "kernelspec": {
   "display_name": ".venv",
   "language": "python",
   "name": "python3"
  },
  "language_info": {
   "codemirror_mode": {
    "name": "ipython",
    "version": 3
   },
   "file_extension": ".py",
   "mimetype": "text/x-python",
   "name": "python",
   "nbconvert_exporter": "python",
   "pygments_lexer": "ipython3",
   "version": "3.9.18"
  }
 },
 "nbformat": 4,
 "nbformat_minor": 2
}
